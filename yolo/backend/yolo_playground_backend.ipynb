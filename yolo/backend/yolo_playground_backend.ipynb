{
  "cells": [
    {
      "cell_type": "markdown",
      "metadata": {
        "id": "118UKH5bWCGa"
      },
      "source": [
        "<center><img src=\"https://emojipedia-us.s3.dualstack.us-west-1.amazonaws.com/thumbs/240/apple/325/woman-detective-medium-light-skin-tone_1f575-1f3fc-200d-2640-fe0f.png\" width=\"120\">\n",
        "\n",
        "#####<center>This notebook is based on this amazing ISAE [course](https://supaerodatascience.github.io/OBD/)."
      ]
    },
    {
      "cell_type": "markdown",
      "metadata": {
        "id": "dS8LbaonYm3a"
      },
      "source": [
        "## Install dependencies"
      ]
    },
    {
      "cell_type": "code",
      "execution_count": null,
      "metadata": {
        "id": "MyO_o-lTQn2A"
      },
      "outputs": [],
      "source": [
        "!rm -rf /content/data-no-blabla-streamlit\n",
        "!git clone https://github.com/galleon/data-no-blabla-streamlit.git\n",
        "!pip install -r data-no-blabla-streamlit/yolo/backend/requirements.txt\n",
        "!pip install flask-cloudflared\n",
        "# localtunnel is down since 24/06\n",
        "# !npm install -g localtunnel"
      ]
    },
    {
      "cell_type": "markdown",
      "source": [
        "# Run the backend web server"
      ],
      "metadata": {
        "id": "sqF_iNGmmVIC"
      }
    },
    {
      "cell_type": "code",
      "source": [
        "%cd data-no-blabla-streamlit/yolo/backend/"
      ],
      "metadata": {
        "id": "VeCeg9kasYwr"
      },
      "execution_count": null,
      "outputs": []
    },
    {
      "cell_type": "code",
      "execution_count": null,
      "metadata": {
        "id": "qrRYWN7qTioY"
      },
      "outputs": [],
      "source": [
        "from threading import Thread, Event\n",
        "\n",
        "app_port = 8000\n",
        "announce_url = None\n",
        "cloudflared_startup = Event()\n",
        "\n",
        "def update_announce_url(url):\n",
        "    global announce_url\n",
        "    announce_url = url\n",
        "\n",
        "def start_cloudflared(port):\n",
        "  from flask_cloudflared import _run_cloudflared\n",
        "  try:\n",
        "    announce_url = _run_cloudflared(port)\n",
        "  except:\n",
        "    raise\n",
        "  finally:\n",
        "    update_announce_url(announce_url)\n",
        "    cloudflared_startup.set()\n",
        "\n",
        "def run_with_cloudflared(thread):\n",
        "    old_run = thread.run\n",
        "\n",
        "    def new_run(*args, **kwargs):\n",
        "        new_thread = Thread(target = start_cloudflared, args=(app_port,))\n",
        "        new_thread.setDaemon(True)\n",
        "        new_thread.start()\n",
        "        old_run(*args, **kwargs)\n",
        "\n",
        "    thread.run = new_run\n",
        "\n",
        "def app():\n",
        "  !uvicorn app:app --port {app_port}\n",
        "\n",
        "if __name__ == '__main__':\n",
        "    t1 = Thread(target = app)\n",
        "    run_with_cloudflared(t1)\n",
        "    t1.start()\n",
        "    cloudflared_startup.wait()\n",
        "    print(f\"Your url is: {announce_url}\")\n",
        "    t1.join()"
      ]
    },
    {
      "cell_type": "markdown",
      "metadata": {
        "id": "UPhc5fgqT_Q0"
      },
      "source": [
        "### Now, take the url you got from localtunnel and use it in the client notebook. \n",
        "\n",
        "### Let the fun begin ✨"
      ]
    }
  ],
  "metadata": {
    "accelerator": "GPU",
    "colab": {
      "collapsed_sections": [],
      "machine_shape": "hm",
      "name": "YOLO Backend Notebook",
      "provenance": []
    },
    "kernelspec": {
      "display_name": "Python 3",
      "name": "python3"
    },
    "language_info": {
      "name": "python"
    }
  },
  "nbformat": 4,
  "nbformat_minor": 0
}