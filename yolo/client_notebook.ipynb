{
 "cells": [
  {
   "cell_type": "markdown",
   "metadata": {
    "id": "2F4hsFSsZXVK"
   },
   "source": [
    "# Notebook d'inference\n",
    "\n",
    "Ce notebook qui contient un script d'inférence est à transformer en webapp pour effectuer des prédictions."
   ]
  },
  {
   "cell_type": "markdown",
   "metadata": {
    "id": "2n_BGU7LuIzt"
   },
   "source": [
    "## Get an image"
   ]
  },
  {
   "cell_type": "code",
   "execution_count": null,
   "metadata": {
    "colab": {
     "base_uri": "https://localhost:8080/",
     "height": 445
    },
    "id": "oO0CScw7ZXVe",
    "outputId": "86dccf64-dbb4-451d-865f-76a4ce677a22"
   },
   "outputs": [],
   "source": [
    "import base64\n",
    "from io import BytesIO\n",
    "\n",
    "import requests\n",
    "from PIL import Image\n",
    "\n",
    "response = requests.get(\n",
    "    \"https://unsplash.com/photos/YCPkW_r_6uA/download?ixid=MnwxMjA3fDB8MXxhbGx8fHx8fHx8fHwxNjU1NTU3ODcz&force=true&w=640\"\n",
    ")\n",
    "img = Image.open(BytesIO(response.content))\n",
    "if img.mode == \"RGBA\":\n",
    "    img = img.convert(\"RGB\")"
   ]
  },
  {
   "cell_type": "code",
   "execution_count": null,
   "metadata": {},
   "outputs": [],
   "source": [
    "img"
   ]
  },
  {
   "cell_type": "code",
   "execution_count": null,
   "metadata": {
    "id": "ge7GvT_bxeu0"
   },
   "outputs": [],
   "source": [
    "# Transform the image to base64 string\n",
    "\n",
    "buffer = BytesIO()\n",
    "img.save(buffer, format=\"JPEG\")\n",
    "img_str: str = base64.b64encode(buffer.getvalue()).decode(\"utf-8\")"
   ]
  },
  {
   "cell_type": "markdown",
   "metadata": {
    "id": "GPV68jaquRpt"
   },
   "source": [
    "## Set server URL"
   ]
  },
  {
   "cell_type": "code",
   "execution_count": null,
   "metadata": {
    "cellView": "form",
    "id": "Nll0jZ-KuVRi"
   },
   "outputs": [],
   "source": [
    "# @title Set server URL\n",
    "server_url = \"https://wide-parks-rest-35-230-172-249.loca.lt\"  # @param {type:\"string\"}"
   ]
  },
  {
   "cell_type": "markdown",
   "metadata": {
    "id": "1a-O_bsSujVd"
   },
   "source": [
    "## Select model"
   ]
  },
  {
   "cell_type": "code",
   "execution_count": null,
   "metadata": {
    "cellView": "form",
    "id": "XuI7JKJ6ulwx"
   },
   "outputs": [],
   "source": [
    "yolo_model = \"yolov5m\"  # @param [\"yolov5s\", \"yolov5m\", \"yolov5l\", \"yolov5x\"] {allow-input: true}"
   ]
  },
  {
   "cell_type": "markdown",
   "metadata": {
    "id": "7NX28T_Qum6f"
   },
   "source": [
    "## Perform the inference"
   ]
  },
  {
   "cell_type": "code",
   "execution_count": null,
   "metadata": {
    "id": "ZgmN3YcsupYU"
   },
   "outputs": [],
   "source": [
    "r = requests.post(f\"{server_url}/predict\", json={\"model\": yolo_model, \"image\": img_str})\n",
    "if r.status_code == 200:\n",
    "    result = r.json()\n",
    "else:\n",
    "    print(r.status_code)"
   ]
  },
  {
   "cell_type": "code",
   "execution_count": null,
   "metadata": {
    "id": "2VZfAiPJAKPi"
   },
   "outputs": [],
   "source": [
    "# Let's get a list of all detected classes\n",
    "classes = list(set(map(lambda x: x[\"class_name\"], result[\"detections\"])))"
   ]
  },
  {
   "cell_type": "code",
   "execution_count": null,
   "metadata": {
    "id": "Tix7L_x9ZXVj"
   },
   "outputs": [],
   "source": [
    "from pathlib import Path\n",
    "\n",
    "import matplotlib.pyplot as plt\n",
    "import numpy as np\n",
    "from PIL import ImageDraw, ImageFont\n",
    "\n",
    "\n",
    "def draw_preds(image, preds, class_names):\n",
    "\n",
    "    image = image.copy()\n",
    "\n",
    "    colors = plt.cm.get_cmap(\"viridis\", len(class_names)).colors\n",
    "    colors = (colors[:, :3] * 255.0).astype(np.uint8)\n",
    "\n",
    "    font = list(Path(\"arial.ttf\").glob(\"**/*.ttf\"))[0].name\n",
    "    font = ImageFont.truetype(font=font, size=np.floor(3e-2 * image.size[1] + 0.5).astype(\"int32\"))\n",
    "    thickness = (image.size[0] + image.size[1]) // 300\n",
    "\n",
    "    for pred in preds:\n",
    "        score = pred[\"confidence\"]\n",
    "        predicted_class = pred[\"class_name\"]\n",
    "\n",
    "        label = \"{} {:.2f}\".format(predicted_class, score)\n",
    "\n",
    "        draw = ImageDraw.Draw(image)\n",
    "        label_size = draw.textsize(label, font)\n",
    "\n",
    "        top = pred[\"y_min\"]\n",
    "        left = pred[\"x_min\"]\n",
    "        bottom = pred[\"y_max\"]\n",
    "        right = pred[\"x_max\"]\n",
    "        print(label, (left, top), (right, bottom))\n",
    "\n",
    "        if top - label_size[1] >= 0:\n",
    "            text_origin = np.array([left, top - label_size[1]])\n",
    "        else:\n",
    "            text_origin = np.array([left, top + 1])\n",
    "\n",
    "        # My kingdom for a good redistributable image drawing library.\n",
    "        for r in range(thickness):\n",
    "            draw.rectangle(\n",
    "                [left + r, top + r, right - r, bottom - r], outline=tuple(colors[class_names.index(predicted_class)])\n",
    "            )\n",
    "        draw.rectangle(\n",
    "            [tuple(text_origin), tuple(text_origin + label_size)],\n",
    "            fill=tuple(colors[class_names.index(predicted_class)]),\n",
    "        )\n",
    "        draw.text(text_origin, label, fill=(0, 0, 0), font=font)\n",
    "        del draw\n",
    "\n",
    "    return image"
   ]
  },
  {
   "cell_type": "code",
   "execution_count": null,
   "metadata": {
    "colab": {
     "base_uri": "https://localhost:8080/"
    },
    "id": "dlX7EOEGZXVl",
    "outputId": "c440b82b-d0de-4130-8f5c-c4ef00ca1561"
   },
   "outputs": [],
   "source": [
    "image_with_preds = draw_preds(img, result[\"detections\"], classes)"
   ]
  },
  {
   "cell_type": "code",
   "execution_count": null,
   "metadata": {
    "colab": {
     "base_uri": "https://localhost:8080/",
     "height": 445
    },
    "id": "uS3O8uBwZXVm",
    "outputId": "16221cfb-f5e4-4b29-bc37-940f7327a32b",
    "pycharm": {
     "name": "#%%\n"
    }
   },
   "outputs": [],
   "source": [
    "from IPython.display import display  # to display images\n",
    "\n",
    "display(image_with_preds)"
   ]
  },
  {
   "cell_type": "code",
   "execution_count": null,
   "metadata": {},
   "outputs": [],
   "source": [
    "image_with_preds"
   ]
  }
 ],
 "metadata": {
  "colab": {
   "name": "client_notebook.ipynb",
   "provenance": []
  },
  "jupytext": {
   "formats": "ipynb,auto:light"
  },
  "kernelspec": {
   "display_name": "py38-deepzoom",
   "language": "python",
   "name": "py38-deepzoom"
  },
  "language_info": {
   "codemirror_mode": {
    "name": "ipython",
    "version": 3
   },
   "file_extension": ".py",
   "mimetype": "text/x-python",
   "name": "python",
   "nbconvert_exporter": "python",
   "pygments_lexer": "ipython3",
   "version": "3.8.12"
  }
 },
 "nbformat": 4,
 "nbformat_minor": 4
}
