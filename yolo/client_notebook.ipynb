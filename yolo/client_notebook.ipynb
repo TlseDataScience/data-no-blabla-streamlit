{
  "cells": [
    {
      "cell_type": "markdown",
      "metadata": {
        "id": "118UKH5bWCGa"
      },
      "source": [
        "<center><img src=\"https://emojipedia-us.s3.dualstack.us-west-1.amazonaws.com/thumbs/240/apple/325/woman-detective-medium-light-skin-tone_1f575-1f3fc-200d-2640-fe0f.png\" width=\"120\">\n",
        "\n",
        "#####<center>This notebook is based on the amazing ISAE course."
      ]
    },
    {
      "cell_type": "markdown",
      "metadata": {
        "id": "dS8LbaonYm3a"
      },
      "source": [
        "## Install dependencies"
      ]
    },
    {
      "cell_type": "code",
      "execution_count": null,
      "metadata": {
        "id": "MyO_o-lTQn2A"
      },
      "outputs": [],
      "source": [
        "!rm -rf /content/data-no-blabla-streamlit\n",
        "!git clone https://github.com/galleon/data-no-blabla-streamlit.git\n",
        "!(cd data-no-blabla-streamlit && git checkout gal/yolo)\n",
        "!pip install -r data-no-blabla-streamlit/yolo/backend/requirements.txt\n",
        "!npm install -g localtunnel"
      ]
    },
    {
      "cell_type": "markdown",
      "metadata": {
        "id": "itw9hJxfl1bJ"
      },
      "source": [
        "## Choose a model\n",
        "\n",
        "* **YOLOv5s**\n",
        "  * 15M model. Fastest yet suboptimal results\n",
        "  * Runs well on a 4GB GPU and the Google Colab free tier\n",
        "* **YOLOv5m**\n",
        "  * 42M model\n",
        "  * Runs well on a 8GB GPU and recommended on the Google Colab Pro tier\n",
        "* **YOLOv5l**\n",
        "  * 92M model\n",
        "  * Runs well on a 12GB GPU and recommended on the Google Colab Pro+ tier\n",
        "* **YOLOv5x**\n",
        "  * 170M model\n",
        "  * Runs well on a 12GB GPU and recommended on the Google Colab Pro+ tier"
      ]
    },
    {
      "cell_type": "code",
      "execution_count": null,
      "metadata": {
        "id": "BKmwZUHcl1bK"
      },
      "outputs": [],
      "source": [
        "#@title Select a model - remember to execute cell after selecting!\n",
        "\n",
        "yolo_model = 'yolov5s' #@param [\"yolov5s\", \"yolov5m\", \"yolov5l\", \"yolov5x\"]"
      ]
    },
    {
      "cell_type": "markdown",
      "source": [
        "# Run the backend web server"
      ],
      "metadata": {
        "id": "sqF_iNGmmVIC"
      }
    },
    {
      "cell_type": "code",
      "source": [
        "!pip install uvicorn fastapi"
      ],
      "metadata": {
        "id": "7_2MbzLkrNo_"
      },
      "execution_count": null,
      "outputs": []
    },
    {
      "cell_type": "code",
      "source": [
        "!ps -edf\n"
      ],
      "metadata": {
        "id": "dQzZYIe7s8p4"
      },
      "execution_count": null,
      "outputs": []
    },
    {
      "cell_type": "code",
      "source": [
        "%cd data-no-blabla-streamlit/yolo/backend/"
      ],
      "metadata": {
        "id": "VeCeg9kasYwr"
      },
      "execution_count": null,
      "outputs": []
    },
    {
      "cell_type": "code",
      "execution_count": null,
      "metadata": {
        "id": "qrRYWN7qTioY"
      },
      "outputs": [],
      "source": [
        "from threading import Thread\n",
        "\n",
        "app_port = 8000\n",
        "def app():\n",
        "  !uvicorn app:app --port {app_port}\n",
        "\n",
        "if __name__ == '__main__':\n",
        "    t1 = Thread(target = app)\n",
        "    a = t1.start()\n",
        "    !lt --port {app_port}"
      ]
    },
    {
      "cell_type": "code",
      "source": [
        "!pip freeze | grep PyY"
      ],
      "metadata": {
        "id": "_gGxY20A0bRg"
      },
      "execution_count": null,
      "outputs": []
    },
    {
      "cell_type": "markdown",
      "metadata": {
        "id": "UPhc5fgqT_Q0"
      },
      "source": [
        "### Now, take the url you got from localtunnel and use it in the client notebook. \n",
        "\n",
        "### Let the fun begin ✨"
      ]
    }
  ],
  "metadata": {
    "accelerator": "GPU",
    "colab": {
      "collapsed_sections": [],
      "machine_shape": "hm",
      "name": "YOLO Backend Notebook",
      "provenance": []
    },
    "kernelspec": {
      "display_name": "Python 3",
      "name": "python3"
    },
    "language_info": {
      "name": "python"
    }
  },
  "nbformat": 4,
  "nbformat_minor": 0
}
